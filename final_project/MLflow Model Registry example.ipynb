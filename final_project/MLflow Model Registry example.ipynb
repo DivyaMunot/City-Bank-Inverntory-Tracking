{
 "cells": [
  {
   "cell_type": "markdown",
   "metadata": {
    "application/vnd.databricks.v1+cell": {
     "cellMetadata": {},
     "inputWidgets": {},
     "nuid": "50128bea-61d8-44e6-96da-399a5fa7d957",
     "showTitle": false,
     "title": ""
    }
   },
   "source": [
    "# Overview\n",
    "The MLflow Model Registry component is a centralized model store, set of APIs, and UI, to collaboratively manage the full lifecycle of MLflow Models. It provides model lineage (which MLflow Experiment and Run produced the model), model versioning, stage transitions, annotations, and deployment management.\n",
    "\n",
    "In this notebook, you use each of the MLflow Model Registry's components to develop and manage a production machine learning application. This notebook covers the following topics:\n",
    "\n",
    "- Track and log models with MLflow\n",
    "- Register models with the Model Registry\n",
    "- Describe models and make model version stage transitions\n",
    "- Integrate registered models with production applications\n",
    "- Search and discover models in the Model Registry\n",
    "- Archive and delete models\n",
    "\n",
    "## Requirements\n",
    "- A cluster running Databricks Runtime 6.4 ML or above. Note that if your cluster is running Databricks Runtime 6.4 ML, you must upgrade the installed version of MLflow to 1.7.0. You can install this version from PyPI. See ([AWS](https://docs.databricks.com/libraries/cluster-libraries.html#cluster-installed-library)|[Azure](https://docs.microsoft.com/azure/databricks/libraries/cluster-libraries#cluster-installed-library)) for instructions."
   ]
  },
  {
   "cell_type": "markdown",
   "metadata": {
    "application/vnd.databricks.v1+cell": {
     "cellMetadata": {},
     "inputWidgets": {},
     "nuid": "850bb475-2a01-4df2-adaa-2cd0af46926b",
     "showTitle": false,
     "title": ""
    }
   },
   "source": [
    "# Machine learning application: Forecasting wind power\n",
    "\n",
    "In this notebook, you use the MLflow Model Registry to build a machine learning application that forecasts the daily power output of a [wind farm](https://en.wikipedia.org/wiki/Wind_farm). Wind farm power output depends on weather conditions: generally, more energy is produced at higher wind speeds. Accordingly, the machine learning models used in the notebook predict power output based on weather forecasts with three features: `wind direction`, `wind speed`, and `air temperature`."
   ]
  },
  {
   "cell_type": "markdown",
   "metadata": {
    "application/vnd.databricks.v1+cell": {
     "cellMetadata": {},
     "inputWidgets": {},
     "nuid": "4a81b228-5b9b-40ba-9283-eb44cb1a56e2",
     "showTitle": false,
     "title": ""
    }
   },
   "source": [
    "*This notebook uses altered data from the [National WIND Toolkit dataset](https://www.nrel.gov/grid/wind-toolkit.html) provided by NREL, which is publicly available and cited as follows:*\n",
    "\n",
    "*Draxl, C., B.M. Hodge, A. Clifton, and J. McCaa. 2015. Overview and Meteorological Validation of the Wind Integration National Dataset Toolkit (Technical Report, NREL/TP-5000-61740). Golden, CO: National Renewable Energy Laboratory.*\n",
    "\n",
    "*Draxl, C., B.M. Hodge, A. Clifton, and J. McCaa. 2015. \"The Wind Integration National Dataset (WIND) Toolkit.\" Applied Energy 151: 355366.*\n",
    "\n",
    "*Lieberman-Cribbin, W., C. Draxl, and A. Clifton. 2014. Guide to Using the WIND Toolkit Validation Code (Technical Report, NREL/TP-5000-62595). Golden, CO: National Renewable Energy Laboratory.*\n",
    "\n",
    "*King, J., A. Clifton, and B.M. Hodge. 2014. Validation of Power Output for the WIND Toolkit (Technical Report, NREL/TP-5D00-61714). Golden, CO: National Renewable Energy Laboratory.*"
   ]
  },
  {
   "cell_type": "markdown",
   "metadata": {
    "application/vnd.databricks.v1+cell": {
     "cellMetadata": {},
     "inputWidgets": {},
     "nuid": "7cd356c6-d552-4a4d-885a-83f4c392b105",
     "showTitle": false,
     "title": ""
    }
   },
   "source": [
    "## Load the dataset\n",
    "\n",
    "The following cells load a dataset containing weather data and power output information for a wind farm in the United States. The dataset contains `wind direction`, `wind speed`, and `air temperature` features sampled every eight hours (once at `00:00`, once at `08:00`, and once at `16:00`), as well as daily aggregate power output (`power`), over several years."
   ]
  },
  {
   "cell_type": "code",
   "execution_count": 0,
   "metadata": {
    "application/vnd.databricks.v1+cell": {
     "cellMetadata": {},
     "inputWidgets": {},
     "nuid": "f6aca5c9-f2f8-4ef3-a0d1-a390694a4954",
     "showTitle": false,
     "title": ""
    }
   },
   "outputs": [],
   "source": [
    "import pandas as pd\n",
    "wind_farm_data = pd.read_csv(\"https://github.com/dbczumar/model-registry-demo-notebook/raw/master/dataset/windfarm_data.csv\", index_col=0)\n",
    "\n",
    "def get_training_data():\n",
    "  training_data = pd.DataFrame(wind_farm_data[\"2014-01-01\":\"2018-01-01\"])\n",
    "  X = training_data.drop(columns=\"power\")\n",
    "  y = training_data[\"power\"]\n",
    "  return X, y\n",
    "\n",
    "def get_validation_data():\n",
    "  validation_data = pd.DataFrame(wind_farm_data[\"2018-01-01\":\"2019-01-01\"])\n",
    "  X = validation_data.drop(columns=\"power\")\n",
    "  y = validation_data[\"power\"]\n",
    "  return X, y\n",
    "\n",
    "def get_weather_and_forecast():\n",
    "  format_date = lambda pd_date : pd_date.date().strftime(\"%Y-%m-%d\")\n",
    "  today = pd.Timestamp('today').normalize()\n",
    "  week_ago = today - pd.Timedelta(days=5)\n",
    "  week_later = today + pd.Timedelta(days=5)\n",
    "  \n",
    "  past_power_output = pd.DataFrame(wind_farm_data)[format_date(week_ago):format_date(today)]\n",
    "  weather_and_forecast = pd.DataFrame(wind_farm_data)[format_date(week_ago):format_date(week_later)]\n",
    "  if len(weather_and_forecast) < 10:\n",
    "    past_power_output = pd.DataFrame(wind_farm_data).iloc[-10:-5]\n",
    "    weather_and_forecast = pd.DataFrame(wind_farm_data).iloc[-10:]\n",
    "\n",
    "  return weather_and_forecast.drop(columns=\"power\"), past_power_output[\"power\"]"
   ]
  },
  {
   "cell_type": "markdown",
   "metadata": {
    "application/vnd.databricks.v1+cell": {
     "cellMetadata": {},
     "inputWidgets": {},
     "nuid": "20e73142-166e-45ed-b074-1f103f4cd609",
     "showTitle": false,
     "title": ""
    }
   },
   "source": [
    "Display a sample of the data for reference."
   ]
  },
  {
   "cell_type": "code",
   "execution_count": 0,
   "metadata": {
    "application/vnd.databricks.v1+cell": {
     "cellMetadata": {},
     "inputWidgets": {},
     "nuid": "d527bdce-335b-4442-bc87-56d75b197cd9",
     "showTitle": false,
     "title": ""
    }
   },
   "outputs": [],
   "source": [
    "wind_farm_data[\"2019-01-01\":\"2019-01-14\"]"
   ]
  },
  {
   "cell_type": "markdown",
   "metadata": {
    "application/vnd.databricks.v1+cell": {
     "cellMetadata": {},
     "inputWidgets": {},
     "nuid": "22309e34-4a4c-4898-a468-378d9cb47e49",
     "showTitle": false,
     "title": ""
    }
   },
   "source": [
    "# Train a power forecasting model and track it with MLflow\n",
    "\n",
    "The following cells train a neural network to predict power output based on the weather features in the dataset. MLflow is used to track the model's hyperparameters, performance metrics, source code, and artifacts."
   ]
  },
  {
   "cell_type": "markdown",
   "metadata": {
    "application/vnd.databricks.v1+cell": {
     "cellMetadata": {},
     "inputWidgets": {},
     "nuid": "13261d7a-f8e4-475e-8105-6866473fefca",
     "showTitle": false,
     "title": ""
    }
   },
   "source": [
    "Define a power forecasting model using TensorFlow Keras."
   ]
  },
  {
   "cell_type": "code",
   "execution_count": 0,
   "metadata": {
    "application/vnd.databricks.v1+cell": {
     "cellMetadata": {},
     "inputWidgets": {},
     "nuid": "d81a6d66-7b41-4176-ba31-c57dfac22d7b",
     "showTitle": false,
     "title": ""
    }
   },
   "outputs": [],
   "source": [
    "import tensorflow as tf\n",
    "from tensorflow.keras.layers import Dense\n",
    "from tensorflow.keras.models import Sequential\n"
   ]
  },
  {
   "cell_type": "code",
   "execution_count": 0,
   "metadata": {
    "application/vnd.databricks.v1+cell": {
     "cellMetadata": {},
     "inputWidgets": {},
     "nuid": "55db56a5-9bbc-4fd0-83cf-e47a37979f7d",
     "showTitle": false,
     "title": ""
    }
   },
   "outputs": [],
   "source": [
    "def train_keras_model(X, y):\n",
    "  \n",
    "  model = Sequential()\n",
    "  model.add(Dense(100, input_shape=(X_train.shape[-1],), activation=\"relu\", name=\"hidden_layer\"))\n",
    "  model.add(Dense(1))\n",
    "  model.compile(loss=\"mse\", optimizer=\"adam\")\n",
    "\n",
    "  model.fit(X_train, y_train, epochs=100, batch_size=64, validation_split=.2)\n",
    "  return model"
   ]
  },
  {
   "cell_type": "markdown",
   "metadata": {
    "application/vnd.databricks.v1+cell": {
     "cellMetadata": {},
     "inputWidgets": {},
     "nuid": "12f2b2ae-3ab0-4407-bcaf-b94228003bf7",
     "showTitle": false,
     "title": ""
    }
   },
   "source": [
    "Train the model and use MLflow to track its parameters, metrics, artifacts, and source code."
   ]
  },
  {
   "cell_type": "code",
   "execution_count": 0,
   "metadata": {
    "application/vnd.databricks.v1+cell": {
     "cellMetadata": {},
     "inputWidgets": {},
     "nuid": "467cb131-d6ee-4a30-9a7f-05b791ae2d71",
     "showTitle": false,
     "title": ""
    }
   },
   "outputs": [],
   "source": [
    "import mlflow\n",
    "import mlflow.keras\n",
    "import mlflow.tensorflow\n",
    "\n",
    "X_train, y_train = get_training_data()\n",
    "\n",
    "with mlflow.start_run():\n",
    "  # Automatically capture the model's parameters, metrics, artifacts,\n",
    "  # and source code with the `autolog()` function\n",
    "  mlflow.tensorflow.autolog()\n",
    "  \n",
    "  train_keras_model(X_train, y_train)\n",
    "  run_id = mlflow.active_run().info.run_id"
   ]
  },
  {
   "cell_type": "markdown",
   "metadata": {
    "application/vnd.databricks.v1+cell": {
     "cellMetadata": {},
     "inputWidgets": {},
     "nuid": "e9f35c41-755d-4255-9c2a-bd39ee8bb60c",
     "showTitle": false,
     "title": ""
    }
   },
   "source": [
    "# Register the model with the MLflow Model Registry API\n",
    "\n",
    "Now that a forecasting model has been trained and tracked with MLflow, the next step is to register it with the MLflow Model Registry. You can register and manage models using the MLflow UI or the MLflow API .\n",
    "\n",
    "The following cells use the API to register your forecasting model, add rich model descriptions, and perform stage transitions. See the documentation for the UI workflow."
   ]
  },
  {
   "cell_type": "code",
   "execution_count": 0,
   "metadata": {
    "application/vnd.databricks.v1+cell": {
     "cellMetadata": {},
     "inputWidgets": {},
     "nuid": "eeffaf97-d59b-4891-836d-a59025376434",
     "showTitle": false,
     "title": ""
    }
   },
   "outputs": [],
   "source": [
    "model_name = \"power-forecasting-model\" # Replace this with the name of your registered model, if necessary."
   ]
  },
  {
   "cell_type": "markdown",
   "metadata": {
    "application/vnd.databricks.v1+cell": {
     "cellMetadata": {},
     "inputWidgets": {},
     "nuid": "8c9b3136-e8a3-401e-98f1-a3882cee04ab",
     "showTitle": false,
     "title": ""
    }
   },
   "source": [
    "### Create a new registered model using the API\n",
    "\n",
    "The following cells use the `mlflow.register_model()` function to create a new registered model whose name begins with the string `power-forecasting-model`. This also creates a new model version (for example, `Version 1` of `power-forecasting-model`)."
   ]
  },
  {
   "cell_type": "code",
   "execution_count": 0,
   "metadata": {
    "application/vnd.databricks.v1+cell": {
     "cellMetadata": {},
     "inputWidgets": {},
     "nuid": "b0fd8773-a3f2-45e6-b08b-9ca7fb8ece4d",
     "showTitle": false,
     "title": ""
    }
   },
   "outputs": [],
   "source": [
    "import mlflow\n",
    "\n",
    "# The default path where the MLflow autologging function stores the model\n",
    "artifact_path = \"model\"\n",
    "model_uri = \"runs:/{run_id}/{artifact_path}\".format(run_id=run_id, artifact_path=artifact_path)\n",
    "\n",
    "model_details = mlflow.register_model(model_uri=model_uri, name=model_name)"
   ]
  },
  {
   "cell_type": "markdown",
   "metadata": {
    "application/vnd.databricks.v1+cell": {
     "cellMetadata": {},
     "inputWidgets": {},
     "nuid": "bc4827b3-9d7e-4194-a9e6-f9b79a16a2e6",
     "showTitle": false,
     "title": ""
    }
   },
   "source": [
    "After creating a model version, it may take a short period of time to become ready. Certain operations, such as model stage transitions, require the model to be in the `READY` state. Other operations, such as adding a description or fetching model details, can be performed before the model version is ready (for example, while it is in the `PENDING_REGISTRATION` state).\n",
    "\n",
    "The following cell uses the `MlflowClient.get_model_version()` function to wait until the model is ready."
   ]
  },
  {
   "cell_type": "code",
   "execution_count": 0,
   "metadata": {
    "application/vnd.databricks.v1+cell": {
     "cellMetadata": {},
     "inputWidgets": {},
     "nuid": "034703ce-d022-44f4-b7f9-7af87c1773fb",
     "showTitle": false,
     "title": ""
    }
   },
   "outputs": [],
   "source": [
    "import time\n",
    "from mlflow.tracking.client import MlflowClient\n",
    "from mlflow.entities.model_registry.model_version_status import ModelVersionStatus\n",
    "\n",
    "def wait_until_ready(model_name, model_version):\n",
    "  client = MlflowClient()\n",
    "  for _ in range(10):\n",
    "    model_version_details = client.get_model_version(\n",
    "      name=model_name,\n",
    "      version=model_version,\n",
    "    )\n",
    "    status = ModelVersionStatus.from_string(model_version_details.status)\n",
    "    print(\"Model status: %s\" % ModelVersionStatus.to_string(status))\n",
    "    if status == ModelVersionStatus.READY:\n",
    "      break\n",
    "    time.sleep(1)\n",
    "  \n",
    "wait_until_ready(model_details.name, model_details.version)"
   ]
  },
  {
   "cell_type": "markdown",
   "metadata": {
    "application/vnd.databricks.v1+cell": {
     "cellMetadata": {},
     "inputWidgets": {},
     "nuid": "e8b74f6e-7dc0-4fed-aadd-7e414c943b69",
     "showTitle": false,
     "title": ""
    }
   },
   "source": [
    "### Add model descriptions\n",
    "\n",
    "You can add descriptions to registered models as well as model versions: \n",
    "* Model version descriptions are useful for detailing the unique attributes of a particular model version (such as the methodology and algorithm used to develop the model). \n",
    "* Registered model descriptions are useful for recording information that applies to multiple model versions (such as a general overview of the modeling problem and dataset)."
   ]
  },
  {
   "cell_type": "markdown",
   "metadata": {
    "application/vnd.databricks.v1+cell": {
     "cellMetadata": {},
     "inputWidgets": {},
     "nuid": "94a3ce13-cc0e-4f51-8815-1a63f8c02e50",
     "showTitle": false,
     "title": ""
    }
   },
   "source": [
    "Add a high-level description to the registered model, including the machine learning problem and dataset."
   ]
  },
  {
   "cell_type": "code",
   "execution_count": 0,
   "metadata": {
    "application/vnd.databricks.v1+cell": {
     "cellMetadata": {},
     "inputWidgets": {},
     "nuid": "adeff738-667b-411b-812c-2ed83c58e28d",
     "showTitle": false,
     "title": ""
    }
   },
   "outputs": [],
   "source": [
    "from mlflow.tracking.client import MlflowClient\n",
    "\n",
    "client = MlflowClient()\n",
    "client.update_registered_model(\n",
    "  name=model_details.name,\n",
    "  description=\"This model forecasts the power output of a wind farm based on weather data. The weather data consists of three features: wind speed, wind direction, and air temperature.\"\n",
    ")"
   ]
  },
  {
   "cell_type": "markdown",
   "metadata": {
    "application/vnd.databricks.v1+cell": {
     "cellMetadata": {},
     "inputWidgets": {},
     "nuid": "55dad80d-9a2f-4136-8874-d023c12f24af",
     "showTitle": false,
     "title": ""
    }
   },
   "source": [
    "Add a model version description with information about the model architecture and machine learning framework."
   ]
  },
  {
   "cell_type": "code",
   "execution_count": 0,
   "metadata": {
    "application/vnd.databricks.v1+cell": {
     "cellMetadata": {},
     "inputWidgets": {},
     "nuid": "1d575e17-3f79-4528-82a2-aafe91396c3e",
     "showTitle": false,
     "title": ""
    }
   },
   "outputs": [],
   "source": [
    "client.update_model_version(\n",
    "  name=model_details.name,\n",
    "  version=model_details.version,\n",
    "  description=\"This model version was built using TensorFlow Keras. It is a feed-forward neural network with one hidden layer.\"\n",
    ")"
   ]
  },
  {
   "cell_type": "markdown",
   "metadata": {
    "application/vnd.databricks.v1+cell": {
     "cellMetadata": {},
     "inputWidgets": {},
     "nuid": "2d7127c1-ef57-4bc8-a322-d7be2953666f",
     "showTitle": false,
     "title": ""
    }
   },
   "source": [
    "### Perform a model stage transition\n",
    "\n",
    "The MLflow Model Registry defines several model stages: **None**, **Staging**, **Production**, and **Archived**. Each stage has a unique meaning. For example, **Staging** is meant for model testing, while **Production** is for models that have completed the testing or review processes and have been deployed to applications. \n",
    "\n",
    "Users with appropriate permissions can transition models between stages. In private preview, any user can transition a model to any stage. In the near future, administrators in your organization will be able to control these permissions on a per-user and per-model basis.\n",
    "\n",
    "If you have permission to transition a model to a particular stage, you can make the transition directly by using the `MlflowClient.update_model_version()` function. If you do not have permission, you can request a stage transition using the REST API; for example:\n",
    "\n",
    "```\n",
    "%sh curl -i -X POST -H \"X-Databricks-Org-Id: <YOUR_ORG_ID>\" -H \"Authorization: Bearer <YOUR_ACCESS_TOKEN>\" https://<YOUR_DATABRICKS_WORKSPACE_URL>/api/2.0/preview/mlflow/transition-requests/create -d '{\"comment\": \"Please move this model into production!\", \"model_version\": {\"version\": 1, \"registered_model\": {\"name\": \"power-forecasting-model\"}}, \"stage\": \"Production\"}'\n",
    "```"
   ]
  },
  {
   "cell_type": "markdown",
   "metadata": {
    "application/vnd.databricks.v1+cell": {
     "cellMetadata": {},
     "inputWidgets": {},
     "nuid": "9848933d-0fb1-4dbe-beb6-cd1dd692a253",
     "showTitle": false,
     "title": ""
    }
   },
   "source": [
    "Now that you've learned about stage transitions, transition the model to the `Production` stage."
   ]
  },
  {
   "cell_type": "code",
   "execution_count": 0,
   "metadata": {
    "application/vnd.databricks.v1+cell": {
     "cellMetadata": {},
     "inputWidgets": {},
     "nuid": "e01b850f-6360-48b8-a398-7f814e9ff153",
     "showTitle": false,
     "title": ""
    }
   },
   "outputs": [],
   "source": [
    "client.transition_model_version_stage(\n",
    "  name=model_details.name,\n",
    "  version=model_details.version,\n",
    "  stage='Production',\n",
    ")"
   ]
  },
  {
   "cell_type": "markdown",
   "metadata": {
    "application/vnd.databricks.v1+cell": {
     "cellMetadata": {},
     "inputWidgets": {},
     "nuid": "25553b19-b0c2-44c3-ad88-88ed96f63bd1",
     "showTitle": false,
     "title": ""
    }
   },
   "source": [
    "Use the `MlflowClient.get_model_version()` function to fetch the model's current stage."
   ]
  },
  {
   "cell_type": "code",
   "execution_count": 0,
   "metadata": {
    "application/vnd.databricks.v1+cell": {
     "cellMetadata": {},
     "inputWidgets": {},
     "nuid": "254559f6-a325-4631-b727-b6369dbb0898",
     "showTitle": false,
     "title": ""
    }
   },
   "outputs": [],
   "source": [
    "model_version_details = client.get_model_version(\n",
    "  name=model_details.name,\n",
    "  version=model_details.version,\n",
    ")\n",
    "print(\"The current model stage is: '{stage}'\".format(stage=model_version_details.current_stage))"
   ]
  },
  {
   "cell_type": "markdown",
   "metadata": {
    "application/vnd.databricks.v1+cell": {
     "cellMetadata": {},
     "inputWidgets": {},
     "nuid": "591c0c13-66be-4ed1-8d46-090c96ea3341",
     "showTitle": false,
     "title": ""
    }
   },
   "source": [
    "The MLflow Model Registry allows multiple model versions to share the same stage. When referencing a model by stage, the Model Registry will use the latest model version (the model version with the largest version ID). The `MlflowClient.get_latest_versions()` function fetches the latest model version for a given stage or set of stages. The following cell uses this function to print the latest version of the power forecasting model that is in the `Production` stage."
   ]
  },
  {
   "cell_type": "code",
   "execution_count": 0,
   "metadata": {
    "application/vnd.databricks.v1+cell": {
     "cellMetadata": {},
     "inputWidgets": {},
     "nuid": "363ac90c-dfa6-4daa-b4a2-2b5672b66142",
     "showTitle": false,
     "title": ""
    }
   },
   "outputs": [],
   "source": [
    "latest_version_info = client.get_latest_versions(model_name, stages=[\"Production\"])\n",
    "latest_production_version = latest_version_info[0].version\n",
    "print(\"The latest production version of the model '%s' is '%s'.\" % (model_name, latest_production_version))"
   ]
  },
  {
   "cell_type": "markdown",
   "metadata": {
    "application/vnd.databricks.v1+cell": {
     "cellMetadata": {},
     "inputWidgets": {},
     "nuid": "378b9310-bc0b-4081-8a80-61ad6a23ead1",
     "showTitle": false,
     "title": ""
    }
   },
   "source": [
    "# Integrate the model with the forecasting application\n",
    "\n",
    "Now that you have trained and registered a power forecasting model with the MLflow Model Registry, the next step is to integrate it with an application. This application fetches a weather forecast for the wind farm over the next five days and uses the model to produce power forecasts. For example purposes, the application consists of a simple `forecast_power()` function (defined below) that is executed within this notebook. In practice, you may want to execute this function as a recurring batch inference job using the Databricks Jobs service.\n",
    "\n",
    "The following section demonstrates how to load model versions from the MLflow Model Registry for use in applications. The **Forecast power output with the production model** section uses the **Production** model to forecast power output for the next five days."
   ]
  },
  {
   "cell_type": "markdown",
   "metadata": {
    "application/vnd.databricks.v1+cell": {
     "cellMetadata": {},
     "inputWidgets": {},
     "nuid": "b92db277-3d69-4512-82de-78ca9afb4e28",
     "showTitle": false,
     "title": ""
    }
   },
   "source": [
    "## Load versions of the registered model\n",
    "\n",
    "The MLflow Models component defines functions for loading models from several machine learning frameworks. For example, `mlflow.tensorflow.load_model()` is used to load Tensorflow Keras models that were saved in MLflow format, and `mlflow.sklearn.load_model()` is used to load scikit-learn models that were saved in MLflow format.\n",
    "\n",
    "These functions can load models from the MLflow Model Registry."
   ]
  },
  {
   "cell_type": "markdown",
   "metadata": {
    "application/vnd.databricks.v1+cell": {
     "cellMetadata": {},
     "inputWidgets": {},
     "nuid": "a2531205-e325-4054-b3dd-bdfdf2b9270d",
     "showTitle": false,
     "title": ""
    }
   },
   "source": [
    "You can load a model by specifying its name (for example, `power-forecast-model`) and version number (in this case, `1`). The following cell uses the `mlflow.pyfunc.load_model()` API to load `Version 1` of the registered power forecasting model as a generic Python function."
   ]
  },
  {
   "cell_type": "code",
   "execution_count": 0,
   "metadata": {
    "application/vnd.databricks.v1+cell": {
     "cellMetadata": {},
     "inputWidgets": {},
     "nuid": "fce992df-d48a-4b0b-9000-8c2e4f4d1021",
     "showTitle": false,
     "title": ""
    }
   },
   "outputs": [],
   "source": [
    "import mlflow.pyfunc\n",
    "\n",
    "model_version_uri = \"models:/{model_name}/1\".format(model_name=model_name)\n",
    "\n",
    "print(\"Loading registered model version from URI: '{model_uri}'\".format(model_uri=model_version_uri))\n",
    "model_version_1 = mlflow.pyfunc.load_model(model_version_uri)"
   ]
  },
  {
   "cell_type": "markdown",
   "metadata": {
    "application/vnd.databricks.v1+cell": {
     "cellMetadata": {},
     "inputWidgets": {},
     "nuid": "0c5e18e6-6165-453f-a930-7c365dd7a45e",
     "showTitle": false,
     "title": ""
    }
   },
   "source": [
    "You can also load a specific model stage. The following cell loads the `Production` stage of the power forecasting model."
   ]
  },
  {
   "cell_type": "code",
   "execution_count": 0,
   "metadata": {
    "application/vnd.databricks.v1+cell": {
     "cellMetadata": {},
     "inputWidgets": {},
     "nuid": "94328abd-4204-4579-9c63-7276fe60d12a",
     "showTitle": false,
     "title": ""
    }
   },
   "outputs": [],
   "source": [
    "model_production_uri = \"models:/{model_name}/production\".format(model_name=model_name)\n",
    "\n",
    "print(\"Loading registered model version from URI: '{model_uri}'\".format(model_uri=model_production_uri))\n",
    "model_production = mlflow.pyfunc.load_model(model_production_uri)"
   ]
  },
  {
   "cell_type": "markdown",
   "metadata": {
    "application/vnd.databricks.v1+cell": {
     "cellMetadata": {},
     "inputWidgets": {},
     "nuid": "327b5348-6049-4493-80e7-2e2cbed7cdf5",
     "showTitle": false,
     "title": ""
    }
   },
   "source": [
    "## Forecast power output with the production model\n",
    "\n",
    "In this section, the production model is used to evaluate weather forecast data for the wind farm. The `forecast_power()` application loads the latest version of the forecasting model from the specified stage and uses it to forecast power production over the next five days."
   ]
  },
  {
   "cell_type": "code",
   "execution_count": 0,
   "metadata": {
    "application/vnd.databricks.v1+cell": {
     "cellMetadata": {},
     "inputWidgets": {},
     "nuid": "8e45030f-0d7c-4ecb-85e6-007df7c319a5",
     "showTitle": false,
     "title": ""
    }
   },
   "outputs": [],
   "source": [
    "def plot(model_name, model_stage, model_version, power_predictions, past_power_output):\n",
    "  import pandas as pd\n",
    "  import matplotlib.dates as mdates\n",
    "  from matplotlib import pyplot as plt\n",
    "  index = power_predictions.index\n",
    "  fig = plt.figure(figsize=(11, 7))\n",
    "  ax = fig.add_subplot(111)\n",
    "  ax.set_xlabel(\"Date\", size=20, labelpad=20)\n",
    "  ax.set_ylabel(\"Power\\noutput\\n(MW)\", size=20, labelpad=60, rotation=0)\n",
    "  ax.tick_params(axis='both', which='major', labelsize=17)\n",
    "  ax.xaxis.set_major_formatter(mdates.DateFormatter('%m/%d'))\n",
    "  ax.plot(index[:len(past_power_output)], past_power_output, label=\"True\", color=\"red\", alpha=0.5, linewidth=4)\n",
    "  ax.plot(index, power_predictions.squeeze(), \"--\", label=\"Predicted by '%s'\\nin stage '%s' (Version %d)\" % (model_name, model_stage, model_version), color=\"blue\", linewidth=3)\n",
    "  ax.set_ylim(ymin=0, ymax=max(3500, int(max(power_predictions.values) * 1.3)))\n",
    "  ax.legend(fontsize=14)\n",
    "  plt.title(\"Wind farm power output and projections\", size=24, pad=20)\n",
    "  plt.tight_layout()\n",
    "  display(plt.show())\n",
    "  \n",
    "def forecast_power(model_name, model_stage):\n",
    "  from mlflow.tracking.client import MlflowClient\n",
    "  client = MlflowClient()\n",
    "  model_version = client.get_latest_versions(model_name, stages=[model_stage])[0].version\n",
    "  model_uri = \"models:/{model_name}/{model_stage}\".format(model_name=model_name, model_stage=model_stage)\n",
    "  model = mlflow.pyfunc.load_model(model_uri)\n",
    "  weather_data, past_power_output = get_weather_and_forecast()\n",
    "  power_predictions = pd.DataFrame(model.predict(weather_data))\n",
    "  power_predictions.index = pd.to_datetime(weather_data.index)\n",
    "  print(power_predictions)\n",
    "  plot(model_name, model_stage, int(model_version), power_predictions, past_power_output)"
   ]
  },
  {
   "cell_type": "code",
   "execution_count": 0,
   "metadata": {
    "application/vnd.databricks.v1+cell": {
     "cellMetadata": {},
     "inputWidgets": {},
     "nuid": "9b24911e-ebd0-4863-8a45-26013c8b8b26",
     "showTitle": false,
     "title": ""
    }
   },
   "outputs": [],
   "source": [
    "forecast_power(model_name, \"Production\")"
   ]
  },
  {
   "cell_type": "markdown",
   "metadata": {
    "application/vnd.databricks.v1+cell": {
     "cellMetadata": {},
     "inputWidgets": {},
     "nuid": "35d829ab-9ac8-48b1-8e14-073e690d2a5b",
     "showTitle": false,
     "title": ""
    }
   },
   "source": [
    "# Create and deploy a new model version\n",
    "\n",
    "The MLflow Model Registry enables you to create multiple model versions corresponding to a single registered model. By performing stage transitions, you can seamlessly integrate new model versions into your staging or production environments. Model versions can be trained in different machine learning frameworks (such as `scikit-learn` and `tensorflow`); MLflow's `python_function` provides a consistent inference API across machine learning frameworks, ensuring that the same application code continues to work when a new model version is introduced.\n",
    "\n",
    "The following sections create a new version of the power forecasting model using scikit-learn, perform model testing in **Staging**, and update the production application by transitioning the new model version to **Production**."
   ]
  },
  {
   "cell_type": "markdown",
   "metadata": {
    "application/vnd.databricks.v1+cell": {
     "cellMetadata": {},
     "inputWidgets": {},
     "nuid": "c2ad1fd7-01a8-4c8f-9768-d5ca7238517e",
     "showTitle": false,
     "title": ""
    }
   },
   "source": [
    "## Create a new model version\n",
    "\n",
    "Classical machine learning techniques are also effective for power forecasting. The following cell trains a random forest model using scikit-learn and registers it with the MLflow Model Registry via the `mlflow.sklearn.log_model()` function."
   ]
  },
  {
   "cell_type": "code",
   "execution_count": 0,
   "metadata": {
    "application/vnd.databricks.v1+cell": {
     "cellMetadata": {},
     "inputWidgets": {},
     "nuid": "4396bc0e-0b60-439b-b657-6f1b0e9357f4",
     "showTitle": false,
     "title": ""
    }
   },
   "outputs": [],
   "source": [
    "import mlflow.sklearn\n",
    "from sklearn.ensemble import RandomForestRegressor\n",
    "from sklearn.metrics import mean_squared_error\n",
    "\n",
    "with mlflow.start_run():\n",
    "  n_estimators = 300\n",
    "  mlflow.log_param(\"n_estimators\", n_estimators)\n",
    "  \n",
    "  rand_forest = RandomForestRegressor(n_estimators=n_estimators)\n",
    "  rand_forest.fit(X_train, y_train)\n",
    "\n",
    "  val_x, val_y = get_validation_data()\n",
    "  mse = mean_squared_error(rand_forest.predict(val_x), val_y)\n",
    "  print(\"Validation MSE: %d\" % mse)\n",
    "  mlflow.log_metric(\"mse\", mse)\n",
    "  \n",
    "  # Specify the `registered_model_name` parameter of the `mlflow.sklearn.log_model()`\n",
    "  # function to register the model with the MLflow Model Registry. This automatically\n",
    "  # creates a new model version\n",
    "  mlflow.sklearn.log_model(\n",
    "    sk_model=rand_forest,\n",
    "    artifact_path=\"sklearn-model\",\n",
    "    registered_model_name=model_name,\n",
    "  )"
   ]
  },
  {
   "cell_type": "markdown",
   "metadata": {
    "application/vnd.databricks.v1+cell": {
     "cellMetadata": {},
     "inputWidgets": {},
     "nuid": "8b33c397-0b4e-41d4-8f20-79723f1659dc",
     "showTitle": false,
     "title": ""
    }
   },
   "source": [
    "### Fetch the new model version ID using MLflow Model Registry Search\n",
    "\n",
    "The `MlflowClient.search_model_versions()` function searches for model versions by model name, MLflow run ID, or artifact source location. All model versions satisfying a particular filter query are returned.\n",
    "\n",
    "The following cell uses this search function to fetch the version ID of the new model. It searches for the maximum value of the version ID (that is, the most recent version)."
   ]
  },
  {
   "cell_type": "code",
   "execution_count": 0,
   "metadata": {
    "application/vnd.databricks.v1+cell": {
     "cellMetadata": {},
     "inputWidgets": {},
     "nuid": "1dd3b13b-b3b7-488a-9315-366c010461a3",
     "showTitle": false,
     "title": ""
    }
   },
   "outputs": [],
   "source": [
    "from mlflow.tracking.client import MlflowClient\n",
    "client = MlflowClient()\n",
    "\n",
    "model_version_infos = client.search_model_versions(\"name = '%s'\" % model_name)\n",
    "new_model_version = max([model_version_info.version for model_version_info in model_version_infos])"
   ]
  },
  {
   "cell_type": "markdown",
   "metadata": {
    "application/vnd.databricks.v1+cell": {
     "cellMetadata": {},
     "inputWidgets": {},
     "nuid": "5be0ca90-7910-4708-8e27-495345e8a43c",
     "showTitle": false,
     "title": ""
    }
   },
   "source": [
    "Wait for the new model version to become ready."
   ]
  },
  {
   "cell_type": "code",
   "execution_count": 0,
   "metadata": {
    "application/vnd.databricks.v1+cell": {
     "cellMetadata": {},
     "inputWidgets": {},
     "nuid": "adceb429-c7b7-4e7c-b56c-98f82f697079",
     "showTitle": false,
     "title": ""
    }
   },
   "outputs": [],
   "source": [
    "wait_until_ready(model_name, new_model_version)"
   ]
  },
  {
   "cell_type": "markdown",
   "metadata": {
    "application/vnd.databricks.v1+cell": {
     "cellMetadata": {},
     "inputWidgets": {},
     "nuid": "4db4cb3c-7db2-4216-9a07-0d7d9fb47657",
     "showTitle": false,
     "title": ""
    }
   },
   "source": [
    "## Add a description to the new model version"
   ]
  },
  {
   "cell_type": "code",
   "execution_count": 0,
   "metadata": {
    "application/vnd.databricks.v1+cell": {
     "cellMetadata": {},
     "inputWidgets": {},
     "nuid": "a8d0e6ad-65b2-4112-8a72-dca631f23c2a",
     "showTitle": false,
     "title": ""
    }
   },
   "outputs": [],
   "source": [
    "client.update_model_version(\n",
    "  name=model_name,\n",
    "  version=new_model_version,\n",
    "  description=\"This model version is a random forest containing 100 decision trees that was trained in scikit-learn.\"\n",
    ")"
   ]
  },
  {
   "cell_type": "markdown",
   "metadata": {
    "application/vnd.databricks.v1+cell": {
     "cellMetadata": {},
     "inputWidgets": {},
     "nuid": "e68d1287-5b3d-4938-923e-489ae0041fbd",
     "showTitle": false,
     "title": ""
    }
   },
   "source": [
    "## Transition the new model version to Staging\n",
    "\n",
    "Before deploying a model to a production application, it is often best practice to test it in a staging environment. The following cells transition the new model version to **Staging** and evaluate its performance."
   ]
  },
  {
   "cell_type": "code",
   "execution_count": 0,
   "metadata": {
    "application/vnd.databricks.v1+cell": {
     "cellMetadata": {},
     "inputWidgets": {},
     "nuid": "3cf3e74f-3021-4783-8e92-f9e40bdcafd9",
     "showTitle": false,
     "title": ""
    }
   },
   "outputs": [],
   "source": [
    "client.transition_model_version_stage(\n",
    "  name=model_name,\n",
    "  version=new_model_version,\n",
    "  stage=\"Staging\",\n",
    ")"
   ]
  },
  {
   "cell_type": "markdown",
   "metadata": {
    "application/vnd.databricks.v1+cell": {
     "cellMetadata": {},
     "inputWidgets": {},
     "nuid": "721e330b-0239-4850-a798-8164367e513a",
     "showTitle": false,
     "title": ""
    }
   },
   "source": [
    "Evaluate the new model's forecasting performance in **Staging**"
   ]
  },
  {
   "cell_type": "code",
   "execution_count": 0,
   "metadata": {
    "application/vnd.databricks.v1+cell": {
     "cellMetadata": {},
     "inputWidgets": {},
     "nuid": "d64fb34f-e702-4aa8-a198-7b7474e7e33c",
     "showTitle": false,
     "title": ""
    }
   },
   "outputs": [],
   "source": [
    "forecast_power(model_name, \"Staging\")"
   ]
  },
  {
   "cell_type": "markdown",
   "metadata": {
    "application/vnd.databricks.v1+cell": {
     "cellMetadata": {},
     "inputWidgets": {},
     "nuid": "ec2fda4e-0f35-42eb-8f23-6c2f07c3b399",
     "showTitle": false,
     "title": ""
    }
   },
   "source": [
    "## Transition the new model version to **Production**\n",
    "\n",
    "After verifying that the new model version performs well in staging, the following cells transition the model version to **Production** and use the exact same application code from the **Forecast power output with the production model** section to produce a power forecast.\n",
    "\n",
    "There are now two model versions of the forecasting model in the **Production** stage: the model version trained in Tensorflow Keras and the version trained in scikit-learn. \n",
    "\n",
    "*When referencing a model by stage, the MLflow Model Model Registry automatically uses the latest production version. This enables you to update your production models without changing any application code*. \n",
    "\n",
    "See the documentation for how to transition the model to **Production** using the UI."
   ]
  },
  {
   "cell_type": "markdown",
   "metadata": {
    "application/vnd.databricks.v1+cell": {
     "cellMetadata": {},
     "inputWidgets": {},
     "nuid": "7611819a-d9cd-45f5-9dff-6d912b80c4b7",
     "showTitle": false,
     "title": ""
    }
   },
   "source": [
    "### Transition the new model version to Production using the API"
   ]
  },
  {
   "cell_type": "code",
   "execution_count": 0,
   "metadata": {
    "application/vnd.databricks.v1+cell": {
     "cellMetadata": {},
     "inputWidgets": {},
     "nuid": "e6363e7d-f2e6-4091-ae98-a0488f0ff008",
     "showTitle": false,
     "title": ""
    }
   },
   "outputs": [],
   "source": [
    "client.transition_model_version_stage(\n",
    "  name=model_name,\n",
    "  version=new_model_version,\n",
    "  stage=\"Production\",\n",
    ")"
   ]
  },
  {
   "cell_type": "code",
   "execution_count": 0,
   "metadata": {
    "application/vnd.databricks.v1+cell": {
     "cellMetadata": {},
     "inputWidgets": {},
     "nuid": "eb5f954b-dc01-4398-891a-a25421e0e67a",
     "showTitle": false,
     "title": ""
    }
   },
   "outputs": [],
   "source": [
    "forecast_power(model_name, \"Production\")"
   ]
  },
  {
   "cell_type": "markdown",
   "metadata": {
    "application/vnd.databricks.v1+cell": {
     "cellMetadata": {},
     "inputWidgets": {},
     "nuid": "dc6b5629-0dd5-4497-87b7-bde512acf4c4",
     "showTitle": false,
     "title": ""
    }
   },
   "source": [
    "# Archive and delete models\n",
    "\n",
    "When a model version is no longer being used, you can archive it or delete it. You can also delete an entire registered model; this removes all of its associated model versions."
   ]
  },
  {
   "cell_type": "markdown",
   "metadata": {
    "application/vnd.databricks.v1+cell": {
     "cellMetadata": {},
     "inputWidgets": {},
     "nuid": "e320b581-d18f-4520-b22a-918a68bb29c5",
     "showTitle": false,
     "title": ""
    }
   },
   "source": [
    "## Archive `Version 1` of the power forecasting model\n",
    "\n",
    "Archive `Version 1` of the power forecasting model because it is no longer being used. You can archive models in the MLflow Model Registry UI or via the MLflow API. See the documentation for the UI workflow."
   ]
  },
  {
   "cell_type": "markdown",
   "metadata": {
    "application/vnd.databricks.v1+cell": {
     "cellMetadata": {},
     "inputWidgets": {},
     "nuid": "4d48fd12-e78f-4059-98dd-e6ff2b493f9d",
     "showTitle": false,
     "title": ""
    }
   },
   "source": [
    "### Archive `Version 1` using the MLflow API\n",
    "\n",
    "The following cell uses the `MlflowClient.update_model_version()` function to archive `Version 1` of the power forecasting model."
   ]
  },
  {
   "cell_type": "code",
   "execution_count": 0,
   "metadata": {
    "application/vnd.databricks.v1+cell": {
     "cellMetadata": {},
     "inputWidgets": {},
     "nuid": "41c182cb-2780-4486-9cf9-3295240da8d4",
     "showTitle": false,
     "title": ""
    }
   },
   "outputs": [],
   "source": [
    "from mlflow.tracking.client import MlflowClient\n",
    "\n",
    "client = MlflowClient()\n",
    "client.transition_model_version_stage(\n",
    "  name=model_name,\n",
    "  version=1,\n",
    "  stage=\"Archived\",\n",
    ")"
   ]
  },
  {
   "cell_type": "markdown",
   "metadata": {
    "application/vnd.databricks.v1+cell": {
     "cellMetadata": {},
     "inputWidgets": {},
     "nuid": "0eeed647-885f-45de-8ad3-c9f12ef90fe8",
     "showTitle": false,
     "title": ""
    }
   },
   "source": [
    "## Delete `Version 1` of the power forecasting model\n",
    "\n",
    "You can also use the MLflow UI or MLflow API to delete model versions. **Model version deletion is permanent and cannot be undone.**\n",
    "\n",
    "The following cells provide a reference for deleting `Version 1` of the power forecasting model using the MLflow API. See the documentation for how to delete a model version using the UI."
   ]
  },
  {
   "cell_type": "markdown",
   "metadata": {
    "application/vnd.databricks.v1+cell": {
     "cellMetadata": {},
     "inputWidgets": {},
     "nuid": "28a4e5a7-1684-45e2-a9d6-5d863013f2c2",
     "showTitle": false,
     "title": ""
    }
   },
   "source": [
    "### Delete `Version 1` using the MLflow API\n",
    "\n",
    "The following cell permanently deletes `Version 1` of the power forecasting model."
   ]
  },
  {
   "cell_type": "code",
   "execution_count": 0,
   "metadata": {
    "application/vnd.databricks.v1+cell": {
     "cellMetadata": {},
     "inputWidgets": {},
     "nuid": "872df218-283e-460a-8d46-537bb95da42f",
     "showTitle": false,
     "title": ""
    }
   },
   "outputs": [],
   "source": [
    "client.delete_model_version(\n",
    " name=model_name,\n",
    " version=1,\n",
    ")"
   ]
  },
  {
   "cell_type": "markdown",
   "metadata": {
    "application/vnd.databricks.v1+cell": {
     "cellMetadata": {},
     "inputWidgets": {},
     "nuid": "86827df0-8d12-4608-aeae-077c1358a050",
     "showTitle": false,
     "title": ""
    }
   },
   "source": [
    "## Delete the power forecasting model\n",
    "\n",
    "If you want to delete an entire registered model, including all of its model versions, you can use the `MlflowClient.delete_registered_model()` to do so. This action cannot be undone. You must first transition all model version stages to **None** or **Archived**.\n",
    "\n",
    "**Warning: The following cell permanently deletes the power forecasting model, including all of its versions.**"
   ]
  },
  {
   "cell_type": "code",
   "execution_count": 0,
   "metadata": {
    "application/vnd.databricks.v1+cell": {
     "cellMetadata": {},
     "inputWidgets": {},
     "nuid": "de7c7e77-13de-450a-8e7d-7b2b22a6744b",
     "showTitle": false,
     "title": ""
    }
   },
   "outputs": [],
   "source": [
    "client.transition_model_version_stage(\n",
    "  name=model_name,\n",
    "  version=2,\n",
    "  stage=\"Archived\"\n",
    ")\n",
    "\n",
    "client.delete_registered_model(name=model_name)"
   ]
  }
 ],
 "metadata": {
  "application/vnd.databricks.v1+notebook": {
   "dashboards": [],
   "language": "python",
   "notebookMetadata": {
    "pythonIndentUnit": 2
   },
   "notebookName": "MLflow Model Registry example",
   "notebookOrigID": 4119671058917121,
   "widgets": {}
  }
 },
 "nbformat": 4,
 "nbformat_minor": 0
}
